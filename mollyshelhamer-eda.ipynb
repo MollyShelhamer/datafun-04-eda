{
 "cells": [
  {
   "cell_type": "markdown",
   "id": "7fab5fb8",
   "metadata": {},
   "source": [
    "# Molly Shelhamer: Exploratory Data Analysis Project \n",
    "#### Notebook for Introductory EDA 07/16/2025"
   ]
  },
  {
   "cell_type": "markdown",
   "id": "e52e0eb6",
   "metadata": {},
   "source": [
    "## 1. Imports"
   ]
  },
  {
   "cell_type": "code",
   "execution_count": null,
   "id": "8f5bbef1",
   "metadata": {},
   "outputs": [
    {
     "name": "stdout",
     "output_type": "stream",
     "text": [
      "Starting out with Jupyter.\n"
     ]
    }
   ],
   "source": [
    "import pandas as pd\n",
    "import seaborn as sns\n",
    "import matplotlib \n",
    "\n",
    "# Axes object (basic plot type returned by Seaborn)\n",
    "from matplotlib.axes import Axes"
   ]
  },
  {
   "cell_type": "markdown",
   "id": "e998f282",
   "metadata": {},
   "source": [
    "## 2. Load Data"
   ]
  }
 ],
 "metadata": {
  "kernelspec": {
   "display_name": ".venv",
   "language": "python",
   "name": "python3"
  },
  "language_info": {
   "codemirror_mode": {
    "name": "ipython",
    "version": 3
   },
   "file_extension": ".py",
   "mimetype": "text/x-python",
   "name": "python",
   "nbconvert_exporter": "python",
   "pygments_lexer": "ipython3",
   "version": "3.13.5"
  }
 },
 "nbformat": 4,
 "nbformat_minor": 5
}
