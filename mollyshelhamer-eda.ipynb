{
 "cells": [
  {
   "cell_type": "markdown",
   "id": "7fab5fb8",
   "metadata": {},
   "source": [
    "# Molly Shelhamer: Exploratory Data Analysis Project \n",
    "### Notebook for Introductory EDA 07/16/2025"
   ]
  },
  {
   "cell_type": "code",
   "execution_count": 6,
   "id": "8f5bbef1",
   "metadata": {},
   "outputs": [
    {
     "name": "stdout",
     "output_type": "stream",
     "text": [
      "Starting out with Jupyter.\n"
     ]
    }
   ],
   "source": [
    "import pandas as pd\n",
    "print(\"Starting out with Jupyter.\")"
   ]
  }
 ],
 "metadata": {
  "kernelspec": {
   "display_name": ".venv",
   "language": "python",
   "name": "python3"
  },
  "language_info": {
   "codemirror_mode": {
    "name": "ipython",
    "version": 3
   },
   "file_extension": ".py",
   "mimetype": "text/x-python",
   "name": "python",
   "nbconvert_exporter": "python",
   "pygments_lexer": "ipython3",
   "version": "3.13.5"
  }
 },
 "nbformat": 4,
 "nbformat_minor": 5
}
